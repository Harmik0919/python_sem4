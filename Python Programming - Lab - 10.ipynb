{
 "cells": [
  {
   "cell_type": "markdown",
   "metadata": {},
   "source": [
    "<a href='https://www.darshan.ac.in/'> <img src='https://www.darshan.ac.in/Content/media/DU_Logo.svg' width=\"250\" height=\"300\"/></a>\n",
    "<pre>\n",
    "<center><b><h1>Python Programming - 2301CS404</b></center>\n",
    "<center><b><h1>Lab - 10</b></center>    \n",
    "<pre>"
   ]
  },
  {
   "cell_type": "markdown",
   "metadata": {},
   "source": [
    "# Exception Handling"
   ]
  },
  {
   "cell_type": "markdown",
   "metadata": {},
   "source": [
    "### 01) WAP to handle following exceptions:\n",
    "1. ZeroDivisionError\n",
    "2. ValueError\n",
    "3. TypeError\n",
    "#### Note: handle them using separate except blocks and also using single except block too."
   ]
  },
  {
   "cell_type": "code",
   "execution_count": 12,
   "metadata": {},
   "outputs": [
    {
     "name": "stdin",
     "output_type": "stream",
     "text": [
      "Enter int Value: 5\n",
      "Enter int value: 1\n"
     ]
    }
   ],
   "source": [
    "try:\n",
    "    a=int(input(\"Enter int Value:\"))\n",
    "    b=int(input(\"Enter int value:\"))\n",
    "    ans=a/b\n",
    "    ans1=a//b\n",
    "except ZeroDivisionError as zde:\n",
    "    print(str(zde))\n",
    "except ValueError as ve:\n",
    "    print(str(ve))\n",
    "except TypeError as te:\n",
    "    print(str(te))"
   ]
  },
  {
   "cell_type": "markdown",
   "metadata": {},
   "source": [
    "### 02)  WAP to handle following exceptions:\n",
    "1. IndexError\n",
    "2. KeyError"
   ]
  },
  {
   "cell_type": "code",
   "execution_count": 35,
   "metadata": {},
   "outputs": [
    {
     "name": "stdin",
     "output_type": "stream",
     "text": [
      "Enter index: 2\n"
     ]
    },
    {
     "name": "stdout",
     "output_type": "stream",
     "text": [
      "30\n"
     ]
    },
    {
     "name": "stdin",
     "output_type": "stream",
     "text": [
      "Enter Key: hgnj\n"
     ]
    },
    {
     "name": "stdout",
     "output_type": "stream",
     "text": [
      "KeyError\n"
     ]
    }
   ],
   "source": [
    "arr=[10,20,30,40,50]\n",
    "dic={\"name\":\"abc\",\"age\":10}\n",
    "try:\n",
    "    a=int(input(\"Enter index:\"))\n",
    "    print(arr[a])\n",
    "    key=input(\"Enter Key:\")\n",
    "    print(dic[key])\n",
    "except IndexError as ie:\n",
    "    print(str(ie))\n",
    "except KeyError as ke:\n",
    "    print(type(ke).__name__ )"
   ]
  },
  {
   "cell_type": "markdown",
   "metadata": {},
   "source": [
    "### 03) WAP to handle following exceptions:\n",
    "1. FileNotFoundError\n",
    "2. ModuleNotFoundError"
   ]
  },
  {
   "cell_type": "code",
   "execution_count": 40,
   "metadata": {},
   "outputs": [
    {
     "name": "stdin",
     "output_type": "stream",
     "text": [
      "Enter File Name with extension: abc\n",
      "enter module name math\n"
     ]
    },
    {
     "name": "stdout",
     "output_type": "stream",
     "text": [
      "No module named 'module'\n"
     ]
    }
   ],
   "source": [
    "try:\n",
    "    file=input(\"Enter File Name with extension:\")\n",
    "    fp=open(file,\"r\")\n",
    "    module=input(\"enter module name\")\n",
    "    import module\n",
    "except FileNotFoundError as fnfe:\n",
    "    print(str(fnfe))\n",
    "except ModuleNotFoundError as mnfe:\n",
    "    print(str(mnfe))"
   ]
  },
  {
   "cell_type": "markdown",
   "metadata": {},
   "source": [
    "### 04) WAP that catches all type of exceptions in a single except block."
   ]
  },
  {
   "cell_type": "code",
   "execution_count": 43,
   "metadata": {},
   "outputs": [
    {
     "name": "stdin",
     "output_type": "stream",
     "text": [
      "Enter a 1st number 10\n",
      "Enter a 2nd number 0\n"
     ]
    },
    {
     "name": "stdout",
     "output_type": "stream",
     "text": [
      "division by zero\n"
     ]
    }
   ],
   "source": [
    "try:\n",
    "    a=int(input(\"Enter a 1st number\"))\n",
    "    b=int(input(\"Enter a 2nd number\"))\n",
    "    ans=a/b\n",
    "    print(ans)\n",
    "except Exception as err:\n",
    "    print(err)    "
   ]
  },
  {
   "cell_type": "markdown",
   "metadata": {},
   "source": [
    "### 05) WAP to demonstrate else  and finally block."
   ]
  },
  {
   "cell_type": "code",
   "execution_count": 47,
   "metadata": {},
   "outputs": [
    {
     "name": "stdout",
     "output_type": "stream",
     "text": [
      "abcdefghijklmnopqrstuvwxyz\n"
     ]
    }
   ],
   "source": [
    "try:\n",
    "    fp=open(\"abc.txt\",\"r\")\n",
    "except Exception as err:\n",
    "    print(str(err))\n",
    "else:\n",
    "    data=fp.read()\n",
    "    print(data)\n",
    "finally:\n",
    "    fp.close()"
   ]
  },
  {
   "cell_type": "markdown",
   "metadata": {},
   "source": [
    "### 06) Create a short program that prompts the user for a list of grades separated by commas. \n",
    "### Split the string into individual grades and use a list comprehension to convert each string to an integer. \n",
    "### You should use a try statement to inform the user when the values they entered cannot be converted."
   ]
  },
  {
   "cell_type": "code",
   "execution_count": 6,
   "metadata": {},
   "outputs": [
    {
     "name": "stdin",
     "output_type": "stream",
     "text": [
      "Enter a list of grades separated by commas:  a\n"
     ]
    },
    {
     "name": "stdout",
     "output_type": "stream",
     "text": [
      "Error: Please enter only numbers separated by commas.\n"
     ]
    }
   ],
   "source": [
    "try:\n",
    "    grades_input = input(\"Enter a list of grades separated by commas: \")\n",
    "    grades = [int(grade.strip()) for grade in grades_input.split(\",\")]\n",
    "    print(f\"Valid grades: {grades}\")\n",
    "except ValueError:\n",
    "    print(\"Error: Please enter only numbers separated by commas.\")\n"
   ]
  },
  {
   "cell_type": "markdown",
   "metadata": {},
   "source": [
    "### 07) WAP to create an udf divide(a,b) that handles ZeroDivisionError."
   ]
  },
  {
   "cell_type": "code",
   "execution_count": 49,
   "metadata": {},
   "outputs": [
    {
     "data": {
      "text/plain": [
       "2.0"
      ]
     },
     "execution_count": 49,
     "metadata": {},
     "output_type": "execute_result"
    }
   ],
   "source": [
    "def divide(a,b):\n",
    "    try:\n",
    "        ans=a/b\n",
    "        return ans\n",
    "    except ZeroDivisionError:\n",
    "        print(\"Zero Division Error\")\n",
    "\n",
    "divide(10,5)"
   ]
  },
  {
   "cell_type": "markdown",
   "metadata": {},
   "source": [
    "### 08) WAP that gets an age of a person form the user and raises ValueError with error message: \"Enter Valid Age\" :\n",
    "#### If the age is less than 18. \n",
    "#### otherwise print the age."
   ]
  },
  {
   "cell_type": "code",
   "execution_count": 52,
   "metadata": {},
   "outputs": [
    {
     "name": "stdin",
     "output_type": "stream",
     "text": [
      "Enter Age: 21\n"
     ]
    },
    {
     "name": "stdout",
     "output_type": "stream",
     "text": [
      "Age is  21\n"
     ]
    }
   ],
   "source": [
    "class AgeCheckError(Exception):\n",
    "    pass\n",
    "\n",
    "try:\n",
    "    age=int(input(\"Enter Age:\"))\n",
    "    if age<18:\n",
    "        raise AgeCheckError()\n",
    "    else:\n",
    "        print(\"Age is \",age)\n",
    "except AgeCheckError:\n",
    "    print('Enter Valid Age')"
   ]
  },
  {
   "cell_type": "markdown",
   "metadata": {},
   "source": [
    "### 09) WAP to raise your custom Exception named InvalidUsernameError with the error message : \"Username must be between 5 and 15 characters long\":\n",
    "#### if the given name is having characters less than 5 or greater than 15.\n",
    "#### otherwise print the given username."
   ]
  },
  {
   "cell_type": "code",
   "execution_count": 2,
   "metadata": {},
   "outputs": [
    {
     "name": "stdin",
     "output_type": "stream",
     "text": [
      "Enter a username:  Harmik\n"
     ]
    },
    {
     "name": "stdout",
     "output_type": "stream",
     "text": [
      "Valid username: Harmik\n"
     ]
    }
   ],
   "source": [
    "class InvalidUsernameError(Exception):\n",
    "    pass\n",
    "\n",
    "def validate_username(username):\n",
    "    if len(username) < 5 or len(username) > 15:\n",
    "        raise InvalidUsernameError(\"Username must be between 5 and 15 characters long\")\n",
    "    else:\n",
    "        print(f\"Valid username: {username}\")\n",
    "\n",
    "# Example Usage\n",
    "try:\n",
    "    user_input = input(\"Enter a username: \")\n",
    "    validate_username(user_input)\n",
    "except InvalidUsernameError as e:\n",
    "    print(f\"Error: {e}\")\n"
   ]
  },
  {
   "cell_type": "markdown",
   "metadata": {},
   "source": [
    "### 10) WAP to raise your custom Exception named NegativeNumberError with the error message : \"Cannot calculate the square root of a negative number\" :\n",
    "#### if the given number is negative.\n",
    "#### otherwise print the square root of the given number."
   ]
  },
  {
   "cell_type": "code",
   "execution_count": 4,
   "metadata": {},
   "outputs": [
    {
     "name": "stdin",
     "output_type": "stream",
     "text": [
      "Enter a number:  12\n"
     ]
    },
    {
     "name": "stdout",
     "output_type": "stream",
     "text": [
      "Square root: 3.4641016151377544\n"
     ]
    }
   ],
   "source": [
    "import math\n",
    "\n",
    "class NegativeNumberError(Exception):\n",
    "    pass\n",
    "\n",
    "def calculate_square_root(number):\n",
    "    if number < 0:\n",
    "        raise NegativeNumberError(\"Cannot calculate the square root of a negative number\")\n",
    "    else:\n",
    "        return math.sqrt(number)\n",
    "\n",
    "# Example Usage\n",
    "try:\n",
    "    num = float(input(\"Enter a number: \"))\n",
    "    result = calculate_square_root(num)\n",
    "    print(f\"Square root: {result}\")\n",
    "except NegativeNumberError as e:\n",
    "    print(f\"Error: {e}\")\n",
    "\n"
   ]
  }
 ],
 "metadata": {
  "kernelspec": {
   "display_name": "Python 3 (ipykernel)",
   "language": "python",
   "name": "python3"
  },
  "language_info": {
   "codemirror_mode": {
    "name": "ipython",
    "version": 3
   },
   "file_extension": ".py",
   "mimetype": "text/x-python",
   "name": "python",
   "nbconvert_exporter": "python",
   "pygments_lexer": "ipython3",
   "version": "3.12.7"
  }
 },
 "nbformat": 4,
 "nbformat_minor": 4
}
