{
 "cells": [
  {
   "attachments": {},
   "cell_type": "markdown",
   "metadata": {},
   "source": [
    "<a href='https://www.darshan.ac.in/'> <img src='https://www.darshan.ac.in/Content/media/DU_Logo.svg' width=\"250\" height=\"300\"/></a>\n",
    "<pre>\n",
    "<center><b><h1>Python Programming - 2301CS404</b></center>\n",
    "<center><b><h1>Lab - 11</b></center>    \n",
    "<pre>"
   ]
  },
  {
   "cell_type": "markdown",
   "metadata": {},
   "source": [
    "# Modules"
   ]
  },
  {
   "cell_type": "markdown",
   "metadata": {},
   "source": [
    "### 01) WAP to create Calculator module which defines functions like add, sub,mul and div. \n",
    "### Create another .py file that uses the functions available in Calculator module."
   ]
  },
  {
   "cell_type": "code",
   "execution_count": 3,
   "metadata": {},
   "outputs": [
    {
     "name": "stdout",
     "output_type": "stream",
     "text": [
      "Addition to Number 30\n",
      "Subtraction to Number -10\n",
      "Multiplication to Number 200\n",
      "Division to Number 0.5\n"
     ]
    }
   ],
   "source": [
    "import calculator\n",
    "\n",
    "print(\"Addition to Number\",calculator.add(10,20))\n",
    "print(\"Subtraction to Number\",calculator.sub(10,20))\n",
    "print(\"Multiplication to Number\",calculator.mul(10,20))\n",
    "print(\"Division to Number\",calculator.div(10,20))"
   ]
  },
  {
   "cell_type": "markdown",
   "metadata": {},
   "source": [
    "### 02) WAP to pick a random character from a given String."
   ]
  },
  {
   "cell_type": "code",
   "execution_count": 37,
   "metadata": {},
   "outputs": [
    {
     "name": "stdout",
     "output_type": "stream",
     "text": [
      "t\n"
     ]
    }
   ],
   "source": [
    "import random\n",
    "\n",
    "string=\"Python\"\n",
    "print(string[random.randint(0,len(string)-1)])"
   ]
  },
  {
   "cell_type": "markdown",
   "metadata": {},
   "source": [
    "### 03) WAP to pick a random element from a given list."
   ]
  },
  {
   "cell_type": "code",
   "execution_count": 41,
   "metadata": {},
   "outputs": [
    {
     "name": "stdout",
     "output_type": "stream",
     "text": [
      "40\n"
     ]
    }
   ],
   "source": [
    "li=[10,20,30,40,50]\n",
    "print(random.choice(li))"
   ]
  },
  {
   "cell_type": "markdown",
   "metadata": {},
   "source": [
    "### 04) WAP to roll a dice in such a way that every time you get the same number."
   ]
  },
  {
   "cell_type": "code",
   "execution_count": 45,
   "metadata": {},
   "outputs": [
    {
     "name": "stdout",
     "output_type": "stream",
     "text": [
      "4\n"
     ]
    }
   ],
   "source": [
    "rollno=[1,2,3,4,5]\n",
    "random.seed(10)\n",
    "print(random.randint(0, len(rollno)-1))"
   ]
  },
  {
   "cell_type": "markdown",
   "metadata": {},
   "source": [
    "### 05) WAP to generate 3 random integers between 100 and 999 which is divisible by 5."
   ]
  },
  {
   "cell_type": "code",
   "execution_count": 48,
   "metadata": {},
   "outputs": [
    {
     "name": "stdout",
     "output_type": "stream",
     "text": [
      "355\n",
      "145\n",
      "530\n"
     ]
    }
   ],
   "source": [
    "count=0\n",
    "while count<3:\n",
    "    a=random.randint(100,999)\n",
    "    if a%5==0:\n",
    "        count+=1\n",
    "        print(a)"
   ]
  },
  {
   "cell_type": "markdown",
   "metadata": {},
   "source": [
    "### 06) WAP to generate 100 random lottery tickets and pick two lucky tickets from it and announce them as Winner and Runner up respectively."
   ]
  },
  {
   "cell_type": "code",
   "execution_count": 21,
   "metadata": {},
   "outputs": [
    {
     "name": "stdout",
     "output_type": "stream",
     "text": [
      "Winner Is: 3175, 8665, \n",
      "Runner Up is: 6866, 2904, 8349, 7833, 3175, 6067, 3607, 1276, 3236, 8793, 8665, 4059, 3562, 1469, 4896, 1953, 9227, 9950, 9844, 5302, 2958, 5368, 4075, 1926, 1605, 8722, 6299, 8995, 5859, 7557, 8109, 1414, 9814, 4546, 4008, 9904, 7077, 3787, 6019, 6390, 6842, 3238, 1044, 5631, 7052, 2648, 5555, 1652, 9058, 6400, 3401, 7069, 6791, 3481, 1202, 4827, 9722, 1607, 5491, 3716, 1787, 6582, 9051, 7217, 2412, 5535, 2561, 5580, 7916, 3363, 7243, 1296, 8446, 3096, 7325, 9924, 3220, 4974, 9996, 4057, 6948, 4986, 4249, 1042, 2050, 5482, 2481, 6713, 9577, 1692, 4106, 3639, 6481, 9032, 9230, 9077, 2310, 2726, "
     ]
    }
   ],
   "source": [
    "lottery=[]\n",
    "\n",
    "lottery=random.sample(range(1000,9999),100)\n",
    "\n",
    "print(\"Winner Is\",end=\": \")\n",
    "for i in range(2):\n",
    "    winner=random.choice(lottery)\n",
    "    print(random.choice(lottery),end=\", \")\n",
    "    lottery.remove(winner)\n",
    "\n",
    "print()\n",
    "print(\"Runner Up is\", end=\": \")\n",
    "for i in lottery:\n",
    "    print(i, end=\", \")"
   ]
  },
  {
   "cell_type": "markdown",
   "metadata": {},
   "source": [
    "### 07) WAP to print current date and time in Python."
   ]
  },
  {
   "cell_type": "code",
   "execution_count": 29,
   "metadata": {},
   "outputs": [
    {
     "name": "stdout",
     "output_type": "stream",
     "text": [
      "current Date and time 2025-02-15 09:21:44\n"
     ]
    }
   ],
   "source": [
    "from datetime import datetime\n",
    "dateTime=datetime.fromtimestamp(1739591504)\n",
    "print(\"current Date and time\",dateTime)"
   ]
  },
  {
   "cell_type": "markdown",
   "metadata": {},
   "source": [
    "### 08) Subtract a week (7 days) from a given date in Python."
   ]
  },
  {
   "cell_type": "code",
   "execution_count": 32,
   "metadata": {},
   "outputs": [
    {
     "name": "stdout",
     "output_type": "stream",
     "text": [
      "2025-02-08\n"
     ]
    }
   ],
   "source": [
    "from datetime import date, timedelta\n",
    "\n",
    "dateDiff=date.today()-timedelta(days=7)\n",
    "print(dateDiff)"
   ]
  },
  {
   "cell_type": "markdown",
   "metadata": {},
   "source": [
    "### 09) WAP to Calculate number of days between two given dates."
   ]
  },
  {
   "cell_type": "code",
   "execution_count": 1,
   "metadata": {},
   "outputs": [
    {
     "name": "stdout",
     "output_type": "stream",
     "text": [
      "Number of days between dates: 31\n"
     ]
    }
   ],
   "source": [
    "from datetime import datetime\n",
    "\n",
    "date1 = \"2024-01-01\"\n",
    "date2 = \"2024-02-01\"\n",
    "\n",
    "d1 = datetime.strptime(date1, \"%Y-%m-%d\")\n",
    "d2 = datetime.strptime(date2, \"%Y-%m-%d\")\n",
    "\n",
    "difference = abs((d2 - d1).days)\n",
    "\n",
    "print(\"Number of days between dates:\", difference)\n"
   ]
  },
  {
   "cell_type": "markdown",
   "metadata": {},
   "source": [
    "### 10) WAP to Find the day of the week of a given date.(i.e. wether it is sunday/monday/tuesday/etc.)"
   ]
  },
  {
   "cell_type": "code",
   "execution_count": 2,
   "metadata": {},
   "outputs": [
    {
     "name": "stdout",
     "output_type": "stream",
     "text": [
      "The day of the week for 2024-02-15 is: Thursday\n"
     ]
    }
   ],
   "source": [
    "from datetime import datetime\n",
    "\n",
    "date_str = \"2024-02-15\"  \n",
    "\n",
    "date_obj = datetime.strptime(date_str, \"%Y-%m-%d\")\n",
    "\n",
    "day_of_week = date_obj.strftime(\"%A\")\n",
    "\n",
    "print(\"The day of the week for\", date_str, \"is:\", day_of_week)\n"
   ]
  },
  {
   "cell_type": "markdown",
   "metadata": {},
   "source": [
    "### 11) WAP to demonstrate the use of date time module."
   ]
  },
  {
   "cell_type": "code",
   "execution_count": 3,
   "metadata": {},
   "outputs": [
    {
     "name": "stdout",
     "output_type": "stream",
     "text": [
      "Current Date and Time: 2025-02-15 12:19:51.838192\n",
      "Current Date: 2025-02-15\n",
      "Current Time: 12:19:51.838192\n",
      "Formatted Date and Time: Saturday, 15 February 2025 12:19 PM\n",
      "Converted Date: 2024-02-15 14:30:00\n",
      "Difference between dates: 45 days\n",
      "Future Date (+10 days): 2025-02-25\n",
      "Past Date (-10 days): 2025-02-05\n"
     ]
    }
   ],
   "source": [
    "from datetime import datetime, date, time, timedelta\n",
    "\n",
    "current_datetime = datetime.now()\n",
    "print(\"Current Date and Time:\", current_datetime)\n",
    "\n",
    "current_date = date.today()\n",
    "print(\"Current Date:\", current_date)\n",
    "\n",
    "current_time = current_datetime.time()\n",
    "print(\"Current Time:\", current_time)\n",
    "\n",
    "formatted_date = current_datetime.strftime(\"%A, %d %B %Y %I:%M %p\")\n",
    "print(\"Formatted Date and Time:\", formatted_date)\n",
    "\n",
    "date_str = \"2024-02-15 14:30:00\"\n",
    "converted_date = datetime.strptime(date_str, \"%Y-%m-%d %H:%M:%S\")\n",
    "print(\"Converted Date:\", converted_date)\n",
    "\n",
    "date1 = datetime(2024, 1, 1)\n",
    "date2 = datetime(2024, 2, 15)\n",
    "difference = date2 - date1\n",
    "print(\"Difference between dates:\", difference.days, \"days\")\n",
    "\n",
    "future_date = current_date + timedelta(days=10)\n",
    "past_date = current_date - timedelta(days=10)\n",
    "print(\"Future Date (+10 days):\", future_date)\n",
    "print(\"Past Date (-10 days):\", past_date)\n"
   ]
  },
  {
   "cell_type": "markdown",
   "metadata": {},
   "source": [
    "### 12) WAP to demonstrate the use of the math module."
   ]
  },
  {
   "cell_type": "code",
   "execution_count": 36,
   "metadata": {},
   "outputs": [
    {
     "name": "stdout",
     "output_type": "stream",
     "text": [
      "Power: 4.0\n",
      "sqrt 3.1622776601683795\n",
      "GCD: 10\n",
      "floor: 10\n",
      "ceil: 11\n",
      "factorial: 120\n",
      "exp: 148.4131591025766\n",
      "sine: 0.8939966636005579\n",
      "cose: 1.0\n",
      "tan: -1.995200412208242\n",
      "log: 2.302585092994046\n",
      "log10: 1.0\n",
      "\n",
      "Math Constant\n",
      "e: 2.718281828459045\n",
      "pi: 3.141592653589793\n",
      "tau: 6.283185307179586\n",
      "NaN: nan\n",
      "inf: inf\n"
     ]
    }
   ],
   "source": [
    "import math\n",
    "\n",
    "print(\"Power:\",math.pow(2,2))\n",
    "print(\"sqrt\", math.sqrt(10))\n",
    "print(\"GCD:\", math.gcd(10,20))\n",
    "print(\"floor:\",math.floor(10.11))\n",
    "print(\"ceil:\",math.ceil(10.11))\n",
    "print(\"factorial:\",math.factorial(5))\n",
    "print(\"exp:\",math.exp(5))\n",
    "print(\"sine:\",math.sin(90))\n",
    "print(\"cose:\",math.cos(0))\n",
    "print(\"tan:\",math.tan(90))\n",
    "print(\"log:\",math.log(10))\n",
    "print(\"log10:\",math.log10(10))\n",
    "\n",
    "print()\n",
    "print(\"Math Constant\")\n",
    "print(\"e:\",math.e)\n",
    "print(\"pi:\",math.pi)\n",
    "print(\"tau:\",math.tau)\n",
    "print(\"NaN:\",math.nan)\n",
    "print(\"inf:\",math.inf)"
   ]
  },
  {
   "cell_type": "code",
   "execution_count": 7,
   "metadata": {},
   "outputs": [],
   "source": [
    "import random"
   ]
  },
  {
   "cell_type": "code",
   "execution_count": null,
   "metadata": {},
   "outputs": [],
   "source": []
  }
 ],
 "metadata": {
  "kernelspec": {
   "display_name": "Python 3 (ipykernel)",
   "language": "python",
   "name": "python3"
  },
  "language_info": {
   "codemirror_mode": {
    "name": "ipython",
    "version": 3
   },
   "file_extension": ".py",
   "mimetype": "text/x-python",
   "name": "python",
   "nbconvert_exporter": "python",
   "pygments_lexer": "ipython3",
   "version": "3.12.7"
  }
 },
 "nbformat": 4,
 "nbformat_minor": 4
}
