{
 "cells": [
  {
   "cell_type": "markdown",
   "metadata": {},
   "source": [
    "<a href='https://www.darshan.ac.in/'> <img src='https://www.darshan.ac.in/Content/media/DU_Logo.svg' width=\"250\" height=\"300\"/></a>\n",
    "<pre>\n",
    "<center><b><h1>Python Programming - 2301CS404</b></center>\n",
    "<center><b><h1>Lab - 9</b></center>    \n",
    "<pre>"
   ]
  },
  {
   "cell_type": "markdown",
   "metadata": {},
   "source": [
    "# File I/O"
   ]
  },
  {
   "cell_type": "markdown",
   "metadata": {},
   "source": [
    "### 01) WAP to read and display the contents of a text file. (also try to open the file in some other directory) \n",
    "#### - in the form of a string\n",
    "#### - line by line\n",
    "#### - in the form of a list"
   ]
  },
  {
   "cell_type": "code",
   "execution_count": 11,
   "metadata": {},
   "outputs": [
    {
     "name": "stdout",
     "output_type": "stream",
     "text": [
      "String:  This is the first line.\n",
      "This is the second line.\n",
      "Here comes the third line.\n",
      "Fourth line is here.\n",
      "fifth line is here.\n",
      "\n",
      "Line 1: This is the first line.\n",
      "Line 2: This is the second line.\n",
      "Line 3: Here comes the third line.\n",
      "\n",
      "\n",
      "the form of list: ['This is the first line.\\n', 'This is the second line.\\n', 'Here comes the third line.\\n', 'Fourth line is here.\\n', 'fifth line is here.']\n"
     ]
    }
   ],
   "source": [
    "fp=open('demo.txt','r')\n",
    "print('String: ',fp.read())\n",
    "fp.seek(0)\n",
    "print('\\nLine 1:',fp.readline(),end=\"\")\n",
    "print('Line 2:',fp.readline(),end=\"\")\n",
    "print('Line 3:',fp.readline())\n",
    "fp.seek(0)\n",
    "print('\\nthe form of list:',fp.readlines())\n",
    "fp.close()"
   ]
  },
  {
   "cell_type": "markdown",
   "metadata": {},
   "source": [
    "### 02) WAP to create file named \"new.txt\" only if it doesn't exist."
   ]
  },
  {
   "cell_type": "code",
   "execution_count": 14,
   "metadata": {},
   "outputs": [
    {
     "name": "stdout",
     "output_type": "stream",
     "text": [
      "file new.txt created successfully\n"
     ]
    }
   ],
   "source": [
    "fp=open(\"new.txt\",'w')\n",
    "print('file new.txt created successfully')\n",
    "fp.close()"
   ]
  },
  {
   "cell_type": "markdown",
   "metadata": {},
   "source": [
    "### 03) WAP to read first 5 lines from the text file."
   ]
  },
  {
   "cell_type": "code",
   "execution_count": 17,
   "metadata": {},
   "outputs": [
    {
     "name": "stdout",
     "output_type": "stream",
     "text": [
      "This is the first line.\n",
      "This is the second line.\n",
      "Here comes the third line.\n",
      "Fourth line is here.\n",
      "fifth line is here."
     ]
    }
   ],
   "source": [
    "fp=open(\"demo.txt\",'r')\n",
    "for i in range(5):\n",
    "    print(fp.readline(),end=\"\")\n",
    "fp.close()"
   ]
  },
  {
   "cell_type": "markdown",
   "metadata": {},
   "source": [
    "### 04) WAP to find the longest word(s) in a file"
   ]
  },
  {
   "cell_type": "code",
   "execution_count": 21,
   "metadata": {},
   "outputs": [
    {
     "name": "stdout",
     "output_type": "stream",
     "text": [
      "['second', 'Fourth']\n"
     ]
    }
   ],
   "source": [
    "fp=open(\"demo.txt\",\"r\")\n",
    "data=fp.read().split()\n",
    "lengthOfWord=[len(i) for i in data]\n",
    "maxLength=max(lengthOfWord)\n",
    "longestWord=[]\n",
    "for i in data:\n",
    "    if len(i)==maxLength:\n",
    "        longestWord.append(i)\n",
    "print(longestWord)\n",
    "fp.close()"
   ]
  },
  {
   "cell_type": "markdown",
   "metadata": {},
   "source": [
    "### 05) WAP to count the no. of lines, words and characters in a given text file."
   ]
  },
  {
   "cell_type": "code",
   "execution_count": 24,
   "metadata": {},
   "outputs": [
    {
     "name": "stdout",
     "output_type": "stream",
     "text": [
      "No of Lines: 116\n",
      "No of Word: 23\n",
      "No of char: 116\n"
     ]
    }
   ],
   "source": [
    "fp=open(\"demo.txt\",'r')\n",
    "data=fp.readlines()\n",
    "noOfLine=len(data)\n",
    "noOfWord=sum(len(i.split()) for i in data)\n",
    "noOfChar=sum(len(i) for i in data)\n",
    "print('No of Lines:',noOfChar)\n",
    "print('No of Word:',noOfWord)\n",
    "print('No of char:',noOfChar)\n",
    "fp.close()"
   ]
  },
  {
   "cell_type": "markdown",
   "metadata": {},
   "source": [
    "### 06) WAP to copy the content of a file to the another file."
   ]
  },
  {
   "cell_type": "code",
   "execution_count": 27,
   "metadata": {},
   "outputs": [],
   "source": [
    "fp=open('demo.txt','r')\n",
    "data=fp.read()\n",
    "fpCopy=open('copyData.txt','w')\n",
    "fpCopy.write(data)\n",
    "fp.close()\n",
    "fpCopy.close()"
   ]
  },
  {
   "cell_type": "markdown",
   "metadata": {},
   "source": [
    "### 07) WAP to find the size of the text file. "
   ]
  },
  {
   "cell_type": "code",
   "execution_count": 32,
   "metadata": {},
   "outputs": [
    {
     "name": "stdout",
     "output_type": "stream",
     "text": [
      "file size 116\n"
     ]
    }
   ],
   "source": [
    "fp=open(\"demo.txt\",\"r\")\n",
    "fp.seek(0,2)\n",
    "print('file size',fp.tell())\n",
    "fp.close()"
   ]
  },
  {
   "cell_type": "markdown",
   "metadata": {},
   "source": [
    "### 08) WAP to create an UDF named frequency to count occurances of the specific word in a given text file."
   ]
  },
  {
   "cell_type": "code",
   "execution_count": 38,
   "metadata": {},
   "outputs": [
    {
     "name": "stdin",
     "output_type": "stream",
     "text": [
      "Enter Word is\n"
     ]
    },
    {
     "name": "stdout",
     "output_type": "stream",
     "text": [
      "Count: 4\n"
     ]
    }
   ],
   "source": [
    "def frequency(word):\n",
    "    fp=open('demo.txt','r')\n",
    "    data=fp.read()\n",
    "    fp.close()\n",
    "    return data.lower().split().count(word.lower())\n",
    "\n",
    "word=input('Enter Word')\n",
    "print('Count:',frequency(word))"
   ]
  },
  {
   "cell_type": "markdown",
   "metadata": {},
   "source": [
    "### 09) WAP to get the score of five subjects from the user, store them in a file. Fetch those marks and find the highest score."
   ]
  },
  {
   "cell_type": "code",
   "execution_count": 2,
   "metadata": {},
   "outputs": [
    {
     "name": "stdin",
     "output_type": "stream",
     "text": [
      "Enter Score for subject 1:  10\n",
      "Enter Score for subject 2:  20\n",
      "Enter Score for subject 3:  0\n",
      "Enter Score for subject 4:  40\n",
      "Enter Score for subject 5:  10\n"
     ]
    },
    {
     "name": "stdout",
     "output_type": "stream",
     "text": [
      "Highest Score is: 40\n"
     ]
    }
   ],
   "source": [
    "scores = []\n",
    "\n",
    "for i in range(5):\n",
    "    score = int(input(f'Enter Score for subject {i + 1}: '))  \n",
    "    scores.append(score)\n",
    "\n",
    "with open('score.txt', 'w') as fp:\n",
    "    for score in scores:\n",
    "        fp.write(str(score) + '\\n')  \n",
    "\n",
    "with open('score.txt', 'r') as fp:\n",
    "    scoreRead = [int(i.strip()) for i in fp.readlines()] \n",
    "\n",
    "print('Highest Score is:', max(scoreRead))\n"
   ]
  },
  {
   "cell_type": "markdown",
   "metadata": {},
   "source": [
    "### 10) WAP to write first 100 prime numbers to a file named primenumbers.txt \n",
    "(Note: each number should be in new line)"
   ]
  },
  {
   "cell_type": "code",
   "execution_count": 5,
   "metadata": {},
   "outputs": [],
   "source": [
    "fp = open(\"primenumber.txt\", 'w')\n",
    "count = 0\n",
    "num = 2\n",
    "\n",
    "while count < 100:\n",
    "    isPrime = True\n",
    "    for i in range(2, num):\n",
    "        if num % i == 0:\n",
    "            isPrime = False\n",
    "            break\n",
    "    if isPrime:\n",
    "        fp.write(str(num) + '\\n')  \n",
    "        count += 1\n",
    "    num += 1\n",
    "\n",
    "fp.close()\n"
   ]
  },
  {
   "cell_type": "markdown",
   "metadata": {},
   "source": [
    "### 11) WAP to merge two files and write it in a new file."
   ]
  },
  {
   "cell_type": "code",
   "execution_count": 8,
   "metadata": {},
   "outputs": [],
   "source": [
    "fp1=open(\"demo.txt\",'r')\n",
    "fp2=open(\"copyData.txt\",'r')\n",
    "data1=fp1.read()\n",
    "data2=fp2.read()\n",
    "mergeData=data1+'\\n'+data2\n",
    "fpMerge=open(\"mergeData.txt\",\"w\")\n",
    "fpMerge.write(mergeData)\n",
    "fp1.close()\n",
    "fp2.close()\n",
    "fpMerge.close()"
   ]
  },
  {
   "cell_type": "markdown",
   "metadata": {},
   "source": [
    "### 12) WAP to replace word1 by word2 of a text file. Write the updated data to new file."
   ]
  },
  {
   "cell_type": "code",
   "execution_count": 11,
   "metadata": {},
   "outputs": [],
   "source": [
    "fp=open(\"demo.txt\",'r+')\n",
    "data=fp.read()\n",
    "updateData=data.replace('first','1st')\n",
    "fp.write(updateData)\n",
    "fp.close()"
   ]
  },
  {
   "cell_type": "markdown",
   "metadata": {},
   "source": [
    "### 13) Demonstrate tell() and seek() for all the cases(seek from beginning-end-current position) taking a suitable example of your choice."
   ]
  },
  {
   "cell_type": "code",
   "execution_count": 19,
   "metadata": {},
   "outputs": [
    {
     "name": "stdout",
     "output_type": "stream",
     "text": [
      "Starting Position 0\n",
      "This \n",
      "After five reading 5\n",
      "After Seeking 0\n",
      "After six reading 6\n",
      "After end Seeking 242\n",
      "After Seeking 5 character backward 242\n",
      "After Seeking 10 character forward 242\n"
     ]
    }
   ],
   "source": [
    "fp=open('mergeData.txt','r')\n",
    "\n",
    "print(\"Starting Position\",fp.tell())\n",
    "\n",
    "print(fp.read(5))\n",
    "print(\"After five reading\",fp.tell())\n",
    "\n",
    "fp.seek(0)\n",
    "print(\"After Seeking\",fp.tell())\n",
    "\n",
    "fp.read(6)\n",
    "print(\"After six reading\",fp.tell())\n",
    "\n",
    "fp.seek(0,2)\n",
    "print(\"After end Seeking\",fp.tell())\n",
    "\n",
    "fp.seek(0,1)\n",
    "print(\"After Seeking 5 character backward\",fp.tell())\n",
    "\n",
    "\n",
    "fp.seek(0,2)\n",
    "print(\"After Seeking 10 character forward\",fp.tell())\n",
    "\n",
    "fp.close()"
   ]
  },
  {
   "cell_type": "code",
   "execution_count": null,
   "metadata": {},
   "outputs": [],
   "source": []
  }
 ],
 "metadata": {
  "kernelspec": {
   "display_name": "Python 3 (ipykernel)",
   "language": "python",
   "name": "python3"
  },
  "language_info": {
   "codemirror_mode": {
    "name": "ipython",
    "version": 3
   },
   "file_extension": ".py",
   "mimetype": "text/x-python",
   "name": "python",
   "nbconvert_exporter": "python",
   "pygments_lexer": "ipython3",
   "version": "3.12.7"
  }
 },
 "nbformat": 4,
 "nbformat_minor": 4
}
