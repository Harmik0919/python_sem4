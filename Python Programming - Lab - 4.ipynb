{
 "cells": [
  {
   "cell_type": "markdown",
   "metadata": {},
   "source": [
    "\n",
    "<a href='https://www.darshan.ac.in/'> <img src='https://www.darshan.ac.in/Content/media/DU_Logo.svg' width=\"250\" height=\"300\"/></a>\n",
    "<pre>\n",
    "<center><b><h1>Python Programming - 2301CS404</b></center>\n",
    "<center><b><h1>Lab - 4</b></center>    \n",
    "<pre>"
   ]
  },
  {
   "cell_type": "markdown",
   "metadata": {},
   "source": [
    "# String"
   ]
  },
  {
   "cell_type": "markdown",
   "metadata": {},
   "source": [
    "### 01) WAP to check whether the given string is palindrome or not."
   ]
  },
  {
   "cell_type": "code",
   "execution_count": 2,
   "metadata": {},
   "outputs": [
    {
     "name": "stdout",
     "output_type": "stream",
     "text": [
      "Enter String abc\n",
      "String is not Palindrom\n"
     ]
    }
   ],
   "source": [
    "string=input('Enter String ')\n",
    "\n",
    "if string==string[::-1]:\n",
    "    print('String is Palindrom')\n",
    "else:\n",
    "    print('String is not Palindrom')"
   ]
  },
  {
   "cell_type": "markdown",
   "metadata": {},
   "source": [
    "### 02) WAP to reverse the words in the given string."
   ]
  },
  {
   "cell_type": "code",
   "execution_count": 11,
   "metadata": {},
   "outputs": [
    {
     "name": "stdout",
     "output_type": "stream",
     "text": [
      "Enter String Hello World\n",
      "Reverse word String is World Hello\n",
      "Reverse Character is olleH dlroW\n"
     ]
    }
   ],
   "source": [
    "string=input('Enter String ')\n",
    "\n",
    "splitString=string.split(' ')\n",
    "\n",
    "revWord=[]\n",
    "for i in splitString:\n",
    "    revString=splitString[::-1] \n",
    "\n",
    "revWord=' '.join(revString)\n",
    "print(f'Reverse word String is {revWord}')\n",
    "\n",
    "revCharacter=[]\n",
    "for i in splitString:\n",
    "    revCharacter.append(i[::-1])\n",
    "\n",
    "revChar=' '.join(revCharacter)\n",
    "print(f'Reverse Character is {revChar}')"
   ]
  },
  {
   "cell_type": "markdown",
   "metadata": {},
   "source": [
    "### 03) WAP to remove ith character from given string."
   ]
  },
  {
   "cell_type": "code",
   "execution_count": 27,
   "metadata": {},
   "outputs": [
    {
     "name": "stdout",
     "output_type": "stream",
     "text": [
      "Enter StringHello\n",
      "Enter index2\n",
      "Removed Character Helo\n"
     ]
    }
   ],
   "source": [
    "string=input('Enter String')\n",
    "\n",
    "index=int(input('Enter index'))\n",
    "\n",
    "finalString=string[:index:1]+string[index+1::1]\n",
    "\n",
    "print(f'Removed Character {finalString}')"
   ]
  },
  {
   "cell_type": "markdown",
   "metadata": {},
   "source": [
    "### 04) WAP to find length of string without using len function."
   ]
  },
  {
   "cell_type": "code",
   "execution_count": 19,
   "metadata": {},
   "outputs": [
    {
     "name": "stdout",
     "output_type": "stream",
     "text": [
      "Enter Stringhe\n",
      "Length of String 2\n"
     ]
    }
   ],
   "source": [
    "string=input('Enter String')\n",
    "\n",
    "count=0\n",
    "for i in string:\n",
    "    count+=1\n",
    "    \n",
    "print(f'Length of String {count}')"
   ]
  },
  {
   "cell_type": "markdown",
   "metadata": {},
   "source": [
    "### 05) WAP to print even length word in string."
   ]
  },
  {
   "cell_type": "code",
   "execution_count": 31,
   "metadata": {},
   "outputs": [
    {
     "name": "stdout",
     "output_type": "stream",
     "text": [
      "Enter StringHello World even odd\n",
      "even\n"
     ]
    }
   ],
   "source": [
    "string=input('Enter String')\n",
    "\n",
    "splitString=string.split(' ')\n",
    "\n",
    "evenString=[i for i in splitString if len(i)%2==0]\n",
    "\n",
    "print(' '.join(evenString))"
   ]
  },
  {
   "cell_type": "markdown",
   "metadata": {},
   "source": [
    "### 06) WAP to count numbers of vowels in given string."
   ]
  },
  {
   "cell_type": "code",
   "execution_count": 28,
   "metadata": {},
   "outputs": [
    {
     "name": "stdout",
     "output_type": "stream",
     "text": [
      "Enter StringHello\n",
      "2\n"
     ]
    }
   ],
   "source": [
    "string=input('Enter String')\n",
    "\n",
    "stringLower=string.lower()\n",
    "\n",
    "count=0\n",
    "for ch in string:\n",
    "    if ch in 'aeiou':\n",
    "        count+=1\n",
    "\n",
    "print(count)"
   ]
  },
  {
   "cell_type": "markdown",
   "metadata": {},
   "source": [
    "### 07) WAP to capitalize the first and last character of each word in a string."
   ]
  },
  {
   "cell_type": "code",
   "execution_count": 44,
   "metadata": {},
   "outputs": [
    {
     "name": "stdout",
     "output_type": "stream",
     "text": [
      "Enter StringHelo WOrd\n",
      "WOrD \n"
     ]
    }
   ],
   "source": [
    "string=input('Enter String')\n",
    "\n",
    "words=string.split()\n",
    "\n",
    "result=\"\"\n",
    "\n",
    "for word in words:\n",
    "    if len(word)==1:\n",
    "        result+=word.upper()+' '\n",
    "    else:\n",
    "        first=word[0].upper()\n",
    "        last=word[-1].upper()\n",
    "        middle=word[1:-1]\n",
    "        result=first+middle+last+' '\n",
    "\n",
    "\n",
    "print(result)"
   ]
  },
  {
   "cell_type": "markdown",
   "metadata": {},
   "source": [
    "### 08) WAP to convert given array to string."
   ]
  },
  {
   "cell_type": "code",
   "execution_count": 32,
   "metadata": {},
   "outputs": [
    {
     "name": "stdout",
     "output_type": "stream",
     "text": [
      "Harmik\n"
     ]
    }
   ],
   "source": [
    "list=['H','a','r','m','i','k']\n",
    "\n",
    "string=''.join(list)\n",
    "\n",
    "print(string)"
   ]
  },
  {
   "cell_type": "markdown",
   "metadata": {},
   "source": [
    "### 09) Check if the password and confirm password is same or not. \n",
    "### In case of only case's mistake, show the error message."
   ]
  },
  {
   "cell_type": "code",
   "execution_count": 48,
   "metadata": {},
   "outputs": [
    {
     "name": "stdout",
     "output_type": "stream",
     "text": [
      "Enter Passwordharmik\n",
      "Enter Confirm PasswordHarmik\n",
      "Both password is not same\n"
     ]
    }
   ],
   "source": [
    "password=input('Enter Password')\n",
    "confirmPassword=input('Enter Confirm Password')\n",
    "\n",
    "if password==confirmPassword:\n",
    "    print('Successful')\n",
    "\n",
    "else:\n",
    "    print('Both password is not same')"
   ]
  },
  {
   "cell_type": "markdown",
   "metadata": {},
   "source": [
    "### 10) : Display credit card number. \n",
    "### card no. : 1234 5678 9012 3456\n",
    "### display as  : **** **** **** 3456"
   ]
  },
  {
   "cell_type": "code",
   "execution_count": 47,
   "metadata": {},
   "outputs": [
    {
     "name": "stdout",
     "output_type": "stream",
     "text": [
      "Display as:  **** **** **** 3456\n"
     ]
    }
   ],
   "source": [
    "card=\"1234 5678 9012 3456\"\n",
    "\n",
    "parts=card.split()\n",
    "\n",
    "mark=['****' for i in parts[:-1]]\n",
    "mark.append(parts[-1])\n",
    "\n",
    "mark_card=' '.join(mark)\n",
    "\n",
    "print('Display as: ',mark_card)"
   ]
  },
  {
   "cell_type": "markdown",
   "metadata": {},
   "source": [
    "### 11) : Checking if the two strings are Anagram or not.\n",
    "### s1 = decimal and s2 = medical are Anagram"
   ]
  },
  {
   "cell_type": "code",
   "execution_count": 49,
   "metadata": {},
   "outputs": [
    {
     "name": "stdout",
     "output_type": "stream",
     "text": [
      "Enter first stringlisten\n",
      "Enter second stringsliten\n",
      "listen and sliten is anagram\n"
     ]
    }
   ],
   "source": [
    "s1=input('Enter first string')\n",
    "s2=input('Enter second string')\n",
    "\n",
    "s1=s1.replace(' ', '').lower()\n",
    "s2=s2.replace(' ', '').lower()\n",
    "\n",
    "if sorted(s1) == sorted(s2):\n",
    "    print(f'{s1} and {s2} is anagram')\n",
    "else:\n",
    "    print(f'{s1} and {s2} is not anagram')"
   ]
  },
  {
   "cell_type": "markdown",
   "metadata": {},
   "source": [
    "### 12) : Rearrange the given string. First lowercase then uppercase alphabets.\n",
    "### input : EHlsarwiwhtwMV\n",
    "### output : lsarwiwhtwEHMV"
   ]
  },
  {
   "cell_type": "code",
   "execution_count": 51,
   "metadata": {},
   "outputs": [
    {
     "name": "stdout",
     "output_type": "stream",
     "text": [
      "Enter mixed stringAhdguenkldhZKIHUIdh\n",
      "Output String hdguenkldhdhAZKIHUI\n"
     ]
    }
   ],
   "source": [
    "string=input('Enter mixed string')\n",
    "\n",
    "lowercase = ''.join(char for char in string if char.islower())\n",
    "uppercase = ''.join(char for char in string if char.isupper())\n",
    "\n",
    "output_string=lowercase+uppercase\n",
    "\n",
    "print(f'Output String {output_string}')"
   ]
  },
  {
   "cell_type": "code",
   "execution_count": null,
   "metadata": {},
   "outputs": [],
   "source": []
  }
 ],
 "metadata": {
  "kernelspec": {
   "display_name": "Python 3 (ipykernel)",
   "language": "python",
   "name": "python3"
  },
  "language_info": {
   "codemirror_mode": {
    "name": "ipython",
    "version": 3
   },
   "file_extension": ".py",
   "mimetype": "text/x-python",
   "name": "python",
   "nbconvert_exporter": "python",
   "pygments_lexer": "ipython3",
   "version": "3.10.9"
  },
  "vscode": {
   "interpreter": {
    "hash": "31f2aee4e71d21fbe5cf8b01ff0e069b9275f58929596ceb00d14d90e3e16cd6"
   }
  }
 },
 "nbformat": 4,
 "nbformat_minor": 4
}
