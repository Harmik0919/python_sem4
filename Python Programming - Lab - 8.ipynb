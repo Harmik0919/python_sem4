{
 "cells": [
  {
   "cell_type": "markdown",
   "metadata": {},
   "source": [
    "<a href='https://www.darshan.ac.in/'> <img src='https://www.darshan.ac.in/Content/media/DU_Logo.svg' width=\"250\" height=\"300\"/></a>\n",
    "<pre>\n",
    "<center><b><h1>Python Programming - 2301CS404</b></center>\n",
    "<center><b><h1>Lab - 8</b></center>    \n",
    "<pre>"
   ]
  },
  {
   "cell_type": "markdown",
   "metadata": {},
   "source": [
    "# User Defined Function"
   ]
  },
  {
   "cell_type": "markdown",
   "metadata": {},
   "source": [
    "### 01) Write a function to calculate BMI given mass and height. (BMI = mass/h**2)"
   ]
  },
  {
   "cell_type": "code",
   "execution_count": 2,
   "metadata": {},
   "outputs": [
    {
     "data": {
      "text/plain": [
       "4000"
      ]
     },
     "execution_count": 2,
     "metadata": {},
     "output_type": "execute_result"
    }
   ],
   "source": [
    "def bmi(mass,height):\n",
    "    return mass*height**2\n",
    "\n",
    "bmi(10,20)"
   ]
  },
  {
   "cell_type": "markdown",
   "metadata": {},
   "source": [
    "### 02) Write a function that add first n numbers."
   ]
  },
  {
   "cell_type": "code",
   "execution_count": 3,
   "metadata": {},
   "outputs": [
    {
     "data": {
      "text/plain": [
       "45"
      ]
     },
     "execution_count": 3,
     "metadata": {},
     "output_type": "execute_result"
    }
   ],
   "source": [
    "def add(n):\n",
    "    sum=0\n",
    "    for i in range(n):\n",
    "        sum+=i\n",
    "    return sum\n",
    "\n",
    "add(10)"
   ]
  },
  {
   "cell_type": "markdown",
   "metadata": {},
   "source": [
    "### 03) Write a function that returns 1 if the given number is Prime or 0 otherwise."
   ]
  },
  {
   "cell_type": "code",
   "execution_count": 11,
   "metadata": {},
   "outputs": [
    {
     "name": "stdout",
     "output_type": "stream",
     "text": [
      "1\n"
     ]
    }
   ],
   "source": [
    "def isPrime(n):\n",
    "    for i in range(2,n):\n",
    "        if n%i==0:\n",
    "            return 0\n",
    "    return 1\n",
    "\n",
    "print(isPrime(7))"
   ]
  },
  {
   "cell_type": "markdown",
   "metadata": {},
   "source": [
    "### 04) Write a function that returns the list of Prime numbers between given two numbers."
   ]
  },
  {
   "cell_type": "code",
   "execution_count": 15,
   "metadata": {},
   "outputs": [
    {
     "data": {
      "text/plain": [
       "[3, 5, 7, 11, 13]"
      ]
     },
     "execution_count": 15,
     "metadata": {},
     "output_type": "execute_result"
    }
   ],
   "source": [
    "def PrimeRange(start,end):\n",
    "    list4=[]\n",
    "    for i in range(start,end+1):\n",
    "        flag=True\n",
    "        for j in range(2,i):\n",
    "            if i%j==0:\n",
    "                flag=False\n",
    "        if flag==True:\n",
    "            list4.append(i)\n",
    "    return list4\n",
    "    \n",
    "PrimeRange(3,13)"
   ]
  },
  {
   "cell_type": "markdown",
   "metadata": {},
   "source": [
    "### 05) Write a function that returns True if the given string is Palindrome or False otherwise."
   ]
  },
  {
   "cell_type": "code",
   "execution_count": 18,
   "metadata": {},
   "outputs": [
    {
     "data": {
      "text/plain": [
       "True"
      ]
     },
     "execution_count": 18,
     "metadata": {},
     "output_type": "execute_result"
    }
   ],
   "source": [
    "def isPalindrome(str1):\n",
    "    if str1==str1[::-1]:\n",
    "        return True\n",
    "    else:\n",
    "        return False\n",
    "\n",
    "isPalindrome('madam')"
   ]
  },
  {
   "cell_type": "markdown",
   "metadata": {},
   "source": [
    "### 06) Write a function that returns the sum of all the elements of the list."
   ]
  },
  {
   "cell_type": "code",
   "execution_count": 19,
   "metadata": {},
   "outputs": [
    {
     "data": {
      "text/plain": [
       "15"
      ]
     },
     "execution_count": 19,
     "metadata": {},
     "output_type": "execute_result"
    }
   ],
   "source": [
    "def sumOfList(l1):\n",
    "    add=0\n",
    "    for i in l1:\n",
    "        add+=i\n",
    "    return add\n",
    "\n",
    "l1=[1,2,3,4,5]\n",
    "sumOfList(l1)"
   ]
  },
  {
   "cell_type": "markdown",
   "metadata": {},
   "source": [
    "### 07) Write a function to calculate the sum of the first element of each tuples inside the list."
   ]
  },
  {
   "cell_type": "code",
   "execution_count": 22,
   "metadata": {},
   "outputs": [
    {
     "data": {
      "text/plain": [
       "16"
      ]
     },
     "execution_count": 22,
     "metadata": {},
     "output_type": "execute_result"
    }
   ],
   "source": [
    "def sumOfFirstElement(tupleList):\n",
    "    return sum(t[0] for t in tupleList if len(t)>0)\n",
    "\n",
    "tupleList= [(3, 4), (1, 2), (7, 8), (5,1)]\n",
    "sumOfFirstElement(tupleList)"
   ]
  },
  {
   "cell_type": "markdown",
   "metadata": {},
   "source": [
    "### 08) Write a recursive function to find nth term of Fibonacci Series."
   ]
  },
  {
   "cell_type": "code",
   "execution_count": 24,
   "metadata": {},
   "outputs": [
    {
     "data": {
      "text/plain": [
       "55"
      ]
     },
     "execution_count": 24,
     "metadata": {},
     "output_type": "execute_result"
    }
   ],
   "source": [
    "def fibo(n):\n",
    "    if n==0 or n==1:\n",
    "        return n\n",
    "    else:\n",
    "        return fibo(n-2)+fibo(n-1)\n",
    "\n",
    "fibo(10)"
   ]
  },
  {
   "cell_type": "markdown",
   "metadata": {},
   "source": [
    "### 09) Write a function to get the name of the student based on the given rollno.\n",
    "#### Example: Given dict1 = {101:'Ajay', 102:'Rahul', 103:'Jay', 104:'Pooja'} find name of student whose rollno = 103"
   ]
  },
  {
   "cell_type": "code",
   "execution_count": 25,
   "metadata": {},
   "outputs": [
    {
     "data": {
      "text/plain": [
       "'Jay'"
      ]
     },
     "execution_count": 25,
     "metadata": {},
     "output_type": "execute_result"
    }
   ],
   "source": [
    "def nameOfRollno(rollno):\n",
    "    dict1 = {101:'Ajay', 102:'Rahul', 103:'Jay', 104:'Pooja'}\n",
    "    return dict1.get(rollno)\n",
    "\n",
    "nameOfRollno(103)"
   ]
  },
  {
   "cell_type": "markdown",
   "metadata": {},
   "source": [
    "### 10) Write a function to get the sum of the scores ending with zero.\n",
    "#### Example : scores = [200, 456, 300, 100, 234, 678] \n",
    "#### Ans = 200 + 300 + 100 = 600"
   ]
  },
  {
   "cell_type": "code",
   "execution_count": 26,
   "metadata": {},
   "outputs": [
    {
     "data": {
      "text/plain": [
       "600"
      ]
     },
     "execution_count": 26,
     "metadata": {},
     "output_type": "execute_result"
    }
   ],
   "source": [
    "def scoreSum(l1):\n",
    "    add=0\n",
    "    for i in l1:\n",
    "        if i%10==0:\n",
    "            add+=i\n",
    "    return add\n",
    "\n",
    "l1=[200, 456, 300, 100, 234, 678]\n",
    "scoreSum(l1)"
   ]
  },
  {
   "cell_type": "markdown",
   "metadata": {},
   "source": [
    "### 11) Write a function to invert a given Dictionary.\n",
    "#### hint: keys to values & values to keys\n",
    "#### Before : {'a': 10, 'b':20, 'c':30, 'd':40}\n",
    "#### After : {10:'a', 20:'b', 30:'c', 40:'d'}"
   ]
  },
  {
   "cell_type": "code",
   "execution_count": 31,
   "metadata": {},
   "outputs": [
    {
     "name": "stdout",
     "output_type": "stream",
     "text": [
      "{'a': 10, 'b': 20, 'c': 30, 'd': 40}\n"
     ]
    }
   ],
   "source": [
    "def invertDict():\n",
    "    before = {'a': 10, 'b':20, 'c':30, 'd':40}\n",
    "    allkey=[i for i in before]\n",
    "    allvalues=[i for i in before.values()]\n",
    "    after={k:v for k,v in zip(allkey, allvalues)}\n",
    "    print(after)\n",
    "\n",
    "invertDict()"
   ]
  },
  {
   "cell_type": "markdown",
   "metadata": {},
   "source": [
    "### 12) Write a function to check whether the given string is Pangram or not.\n",
    "#### hint: Pangram is a string containing all the characters a-z atlest once.\n",
    "#### \"the quick brown fox jumps over the lazy dog\" is a Pangram string."
   ]
  },
  {
   "cell_type": "code",
   "execution_count": 33,
   "metadata": {},
   "outputs": [
    {
     "data": {
      "text/plain": [
       "True"
      ]
     },
     "execution_count": 33,
     "metadata": {},
     "output_type": "execute_result"
    }
   ],
   "source": [
    "def isPangram(s):\n",
    "    alphabet=set('abcdefghijklmnopqrstuvwxyz')\n",
    "    letterString=set(char.lower() for char in s if char.isalpha())\n",
    "\n",
    "    return alphabet.issubset(letterString)\n",
    "\n",
    "isPangram(\"the quick brown fox jumps over the lazy dog\")"
   ]
  },
  {
   "cell_type": "markdown",
   "metadata": {},
   "source": [
    "### 13) Write a function that returns the number of uppercase and lowercase letters in the given string. \n",
    "#### example : Input : s1 = AbcDEfgh ,Ouptput : no_upper = 3, no_lower = 5"
   ]
  },
  {
   "cell_type": "code",
   "execution_count": 12,
   "metadata": {},
   "outputs": [
    {
     "ename": "NameError",
     "evalue": "name 'counCase' is not defined",
     "output_type": "error",
     "traceback": [
      "\u001b[1;31m---------------------------------------------------------------------------\u001b[0m",
      "\u001b[1;31mNameError\u001b[0m                                 Traceback (most recent call last)",
      "Cell \u001b[1;32mIn[12], line 6\u001b[0m\n\u001b[0;32m      3\u001b[0m     lowerCase\u001b[38;5;241m=\u001b[39m\u001b[38;5;28msum\u001b[39m(\u001b[38;5;241m1\u001b[39m \u001b[38;5;28;01mfor\u001b[39;00m char \u001b[38;5;129;01min\u001b[39;00m s \u001b[38;5;28;01mif\u001b[39;00m char\u001b[38;5;241m.\u001b[39misLower())\n\u001b[0;32m      4\u001b[0m     \u001b[38;5;28;01mreturn\u001b[39;00m upperCase, lowerCase\n\u001b[1;32m----> 6\u001b[0m result\u001b[38;5;241m=\u001b[39mcounCase(\u001b[38;5;124m'\u001b[39m\u001b[38;5;124mAbaAc\u001b[39m\u001b[38;5;124m'\u001b[39m)\n\u001b[0;32m      7\u001b[0m \u001b[38;5;28mprint\u001b[39m(\u001b[38;5;124m'\u001b[39m\u001b[38;5;124mUpper Case\u001b[39m\u001b[38;5;124m'\u001b[39m,result[\u001b[38;5;241m0\u001b[39m])\n\u001b[0;32m      8\u001b[0m \u001b[38;5;28mprint\u001b[39m(\u001b[38;5;124m'\u001b[39m\u001b[38;5;124mLower Case\u001b[39m\u001b[38;5;124m'\u001b[39m,result[\u001b[38;5;241m1\u001b[39m])\n",
      "\u001b[1;31mNameError\u001b[0m: name 'counCase' is not defined"
     ]
    }
   ],
   "source": [
    "def countCase(s):\n",
    "    upperCase=sum(1 for char in s if char.isUpper())\n",
    "    lowerCase=sum(1 for char in s if char.isLower())\n",
    "    return upperCase, lowerCase\n",
    "\n",
    "result=counCase('AbaAc')\n",
    "print('Upper Case',result[0])\n",
    "print('Lower Case',result[1])"
   ]
  },
  {
   "cell_type": "markdown",
   "metadata": {},
   "source": [
    "### 14) Write a lambda function to get smallest number from the given two numbers."
   ]
  },
  {
   "cell_type": "code",
   "execution_count": 2,
   "metadata": {},
   "outputs": [
    {
     "name": "stdout",
     "output_type": "stream",
     "text": [
      "10\n"
     ]
    }
   ],
   "source": [
    "smallest=lambda a,b:a if a<b else b\n",
    "\n",
    "a=10\n",
    "b=20\n",
    "print(smallest(a,b))"
   ]
  },
  {
   "cell_type": "markdown",
   "metadata": {},
   "source": [
    "### 15) For the given list of names of students, extract the names having more that 7 characters. Use filter()."
   ]
  },
  {
   "cell_type": "code",
   "execution_count": 4,
   "metadata": {},
   "outputs": [
    {
     "name": "stdout",
     "output_type": "stream",
     "text": [
      "['Meetraj']\n"
     ]
    }
   ],
   "source": [
    "student=[\"Harmik\",\"Heet\",\"Harsh\",\"Tirth\",\"Deep\",\"Meetraj\"]\n",
    "\n",
    "longNames=list(filter(lambda name: len(name)>=7,student))\n",
    "\n",
    "print(longNames)"
   ]
  },
  {
   "cell_type": "markdown",
   "metadata": {},
   "source": [
    "### 16) For the given list of names of students, convert the first letter of all the names into uppercase. use map()."
   ]
  },
  {
   "cell_type": "code",
   "execution_count": 7,
   "metadata": {},
   "outputs": [
    {
     "name": "stdout",
     "output_type": "stream",
     "text": [
      "['Harmik', 'Heet', 'Harsh', 'Tirth', 'Deep', 'Meetraj']\n"
     ]
    }
   ],
   "source": [
    "student=[\"harmik\",\"heet\",\"harsh\",\"tirth\",\"deep\",\"meetraj\"]\n",
    "\n",
    "capitalName=list(map(lambda name: name.capitalize(), student))\n",
    "\n",
    "print(capitalName)\n",
    "\n"
   ]
  },
  {
   "cell_type": "markdown",
   "metadata": {},
   "source": [
    "### 17) Write udfs to call the functions with following types of arguments:\n",
    "1. Positional Arguments\n",
    "2. Keyword Arguments\n",
    "3. Default Arguments\n",
    "4. Variable Legngth Positional(*args) & variable length Keyword Arguments (**kwargs)\n",
    "5. Keyword-Only & Positional Only Arguments"
   ]
  },
  {
   "cell_type": "code",
   "execution_count": null,
   "metadata": {},
   "outputs": [],
   "source": []
  }
 ],
 "metadata": {
  "kernelspec": {
   "display_name": "Python 3 (ipykernel)",
   "language": "python",
   "name": "python3"
  },
  "language_info": {
   "codemirror_mode": {
    "name": "ipython",
    "version": 3
   },
   "file_extension": ".py",
   "mimetype": "text/x-python",
   "name": "python",
   "nbconvert_exporter": "python",
   "pygments_lexer": "ipython3",
   "version": "3.12.7"
  }
 },
 "nbformat": 4,
 "nbformat_minor": 4
}
