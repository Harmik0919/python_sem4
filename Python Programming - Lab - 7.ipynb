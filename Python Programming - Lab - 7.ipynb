{
 "cells": [
  {
   "cell_type": "markdown",
   "metadata": {},
   "source": [
    "<a href='https://www.darshan.ac.in/'> <img src='https://www.darshan.ac.in/Content/media/DU_Logo.svg' width=\"250\" height=\"300\"/></a>\n",
    "<pre>\n",
    "<center><b><h1>Python Programming - 2301CS404</b></center>\n",
    "<center><b><h1>Lab - 7</b></center>    \n",
    "<pre>"
   ]
  },
  {
   "cell_type": "markdown",
   "metadata": {},
   "source": [
    "# Set & Dictionary"
   ]
  },
  {
   "cell_type": "markdown",
   "metadata": {},
   "source": [
    "### 01) WAP to iterate over a set."
   ]
  },
  {
   "cell_type": "code",
   "execution_count": 4,
   "metadata": {},
   "outputs": [
    {
     "name": "stdout",
     "output_type": "stream",
     "text": [
      "1 2 3 9 "
     ]
    }
   ],
   "source": [
    "s1={1,2,3,1,2,3,9}\n",
    "\n",
    "for i in s1:\n",
    "    print(i, end=\" \")"
   ]
  },
  {
   "cell_type": "markdown",
   "metadata": {},
   "source": [
    "### 02) WAP to convert set into list, string and tuple."
   ]
  },
  {
   "cell_type": "code",
   "execution_count": 17,
   "metadata": {},
   "outputs": [
    {
     "name": "stdout",
     "output_type": "stream",
     "text": [
      "List: [1, 2, 3, 4]\n",
      "String: {1, 2, 3, 4}\n",
      "Tuple: (1, 2, 3, 4)\n"
     ]
    }
   ],
   "source": [
    "s1={1,2,3,1,2,3,4}\n",
    "\n",
    "l1=list(s1)\n",
    "str1=str(str(s1))\n",
    "# str1=' '.join(map(str,str1))\n",
    "t1=tuple(s1)\n",
    "\n",
    "print('List:',l1)\n",
    "print('String:',str1)\n",
    "print('Tuple:',t1)"
   ]
  },
  {
   "cell_type": "markdown",
   "metadata": {},
   "source": [
    "### 03) WAP to find Maximum and Minimum from a set."
   ]
  },
  {
   "cell_type": "code",
   "execution_count": 19,
   "metadata": {},
   "outputs": [
    {
     "name": "stdout",
     "output_type": "stream",
     "text": [
      "Maximum 4\n",
      "Minimum 1\n"
     ]
    }
   ],
   "source": [
    "s1={1,2,3,1,2,3,4}\n",
    "\n",
    "max1=max(s1)\n",
    "min1=min(s1)\n",
    "print('Maximum',max1)\n",
    "print('Minimum',min1)"
   ]
  },
  {
   "cell_type": "markdown",
   "metadata": {},
   "source": [
    "### 04) WAP to perform union of two sets."
   ]
  },
  {
   "cell_type": "code",
   "execution_count": 21,
   "metadata": {},
   "outputs": [
    {
     "name": "stdout",
     "output_type": "stream",
     "text": [
      "{1, 2, 3, 4, 5, 6, 7, 8, 9}\n"
     ]
    }
   ],
   "source": [
    "s1={1,2,3,4,5,6,7}\n",
    "s2={5,6,7,8,9}\n",
    "\n",
    "union=s1 | s2\n",
    "\n",
    "print(union)"
   ]
  },
  {
   "cell_type": "markdown",
   "metadata": {},
   "source": [
    "### 05) WAP to check if two lists have at-least one element common."
   ]
  },
  {
   "cell_type": "code",
   "execution_count": 31,
   "metadata": {},
   "outputs": [
    {
     "name": "stdout",
     "output_type": "stream",
     "text": [
      "One and More than online element are common\n"
     ]
    }
   ],
   "source": [
    "l1=[1,2,3,4,5]\n",
    "l2=[3,4,5,6,7]\n",
    "\n",
    "# print(len(set(l1).intersection(set(l2))))\n",
    "if len(set(l1).intersection(set(l2)))>0:\n",
    "    print('One and More than online element are common')\n",
    "else:\n",
    "    print('Not any element common')"
   ]
  },
  {
   "cell_type": "markdown",
   "metadata": {},
   "source": [
    "### 06) WAP to remove duplicates from list."
   ]
  },
  {
   "cell_type": "code",
   "execution_count": 33,
   "metadata": {},
   "outputs": [
    {
     "name": "stdout",
     "output_type": "stream",
     "text": [
      "[1, 2, 3, 4, 5]\n"
     ]
    }
   ],
   "source": [
    "l1=[1,2,3,1,2,3,4,5,4,5]\n",
    "\n",
    "print(list(set(l1)))"
   ]
  },
  {
   "cell_type": "markdown",
   "metadata": {},
   "source": [
    "### 07) WAP to find unique words in the given string."
   ]
  },
  {
   "cell_type": "code",
   "execution_count": 38,
   "metadata": {},
   "outputs": [
    {
     "name": "stdout",
     "output_type": "stream",
     "text": [
      "{'hello', 'hi'}\n"
     ]
    }
   ],
   "source": [
    "str1=\"hello hi hello hi\"\n",
    "\n",
    "print(set(str1.split(\" \")))"
   ]
  },
  {
   "cell_type": "markdown",
   "metadata": {},
   "source": [
    "### 08) WAP to remove common elements of set A & B from set A."
   ]
  },
  {
   "cell_type": "code",
   "execution_count": 41,
   "metadata": {},
   "outputs": [
    {
     "name": "stdout",
     "output_type": "stream",
     "text": [
      "{1, 2}\n"
     ]
    }
   ],
   "source": [
    "a={1,2,3,4,5}\n",
    "b={3,4,5,7,8}\n",
    "\n",
    "a.difference_update(b)\n",
    "\n",
    "print(a)"
   ]
  },
  {
   "cell_type": "markdown",
   "metadata": {},
   "source": [
    "### 09) WAP to check whether two given strings are anagram or not using set."
   ]
  },
  {
   "cell_type": "code",
   "execution_count": 44,
   "metadata": {},
   "outputs": [
    {
     "name": "stdout",
     "output_type": "stream",
     "text": [
      "String is anagram\n"
     ]
    }
   ],
   "source": [
    "s1='listen'\n",
    "s2='silent'\n",
    "\n",
    "if set(s1)==set(s2):\n",
    "    print('String is anagram')\n",
    "\n",
    "else:\n",
    "    print('String is\\'t anagram')"
   ]
  },
  {
   "cell_type": "markdown",
   "metadata": {},
   "source": [
    "### 10) WAP to find common elements in three lists using set."
   ]
  },
  {
   "cell_type": "code",
   "execution_count": 45,
   "metadata": {},
   "outputs": [
    {
     "name": "stdout",
     "output_type": "stream",
     "text": [
      "[2, 4]\n"
     ]
    }
   ],
   "source": [
    "l1 = [1,2,3,4,1,2,3]\n",
    "l2 = [5,6,2,7,4,8]\n",
    "l3 = [9,2,6,3,4]\n",
    "\n",
    "print(list(set(l1).intersection(set(l2)).intersection(set(l3))))"
   ]
  },
  {
   "cell_type": "markdown",
   "metadata": {},
   "source": [
    "### 11) WAP to count number of vowels in given string using set."
   ]
  },
  {
   "cell_type": "code",
   "execution_count": 46,
   "metadata": {},
   "outputs": [
    {
     "name": "stdout",
     "output_type": "stream",
     "text": [
      "1\n"
     ]
    }
   ],
   "source": [
    "vowel='aeiou'\n",
    "str1='hello python'.lower()\n",
    "\n",
    "vowelString=set(vowel).intersection(set(str1))\n",
    "\n",
    "noOfVowel=0\n",
    "for i in vowelString:\n",
    "    noOfVowel+=s1.count(i)\n",
    "\n",
    "print(noOfVowel)"
   ]
  },
  {
   "cell_type": "markdown",
   "metadata": {},
   "source": [
    "### 12) WAP to check if a given string is binary string or not."
   ]
  },
  {
   "cell_type": "code",
   "execution_count": 47,
   "metadata": {},
   "outputs": [
    {
     "name": "stdout",
     "output_type": "stream",
     "text": [
      "Binary Set\n"
     ]
    }
   ],
   "source": [
    "binaryString='101'\n",
    "binarySet={'0','1'}\n",
    "\n",
    "if set(binaryString).difference(binarySet)==set():\n",
    "    print('Binary Set')\n",
    "\n",
    "else:\n",
    "    print('not binary set')"
   ]
  },
  {
   "cell_type": "markdown",
   "metadata": {},
   "source": [
    "### 13) WAP to sort dictionary by key or value."
   ]
  },
  {
   "cell_type": "code",
   "execution_count": 49,
   "metadata": {},
   "outputs": [
    {
     "name": "stdout",
     "output_type": "stream",
     "text": [
      "{'age': 19, 'email': 'hr@example.com', 'mobile': 1234567890, 'name': 'Harmik'}\n"
     ]
    }
   ],
   "source": [
    "d1={'name':'Harmik','age':19,'mobile':1234567890,'email':'hr@example.com'}\n",
    "sortedDictonary={}\n",
    "key=sorted(d1.keys())\n",
    "\n",
    "for i in key:\n",
    "    sortedDictonary[i]=d1[i]\n",
    "\n",
    "print(sortedDictonary)"
   ]
  },
  {
   "cell_type": "markdown",
   "metadata": {},
   "source": [
    "### 14) WAP to find the sum of all items (values) in a dictionary given by user. (Assume: values are numeric)"
   ]
  },
  {
   "cell_type": "code",
   "execution_count": 50,
   "metadata": {},
   "outputs": [
    {
     "name": "stdin",
     "output_type": "stream",
     "text": [
      "Enter the length of Dictonary 3\n",
      "Enter a Number 1\n",
      "Enter a Number 2\n",
      "Enter a Number 3\n"
     ]
    },
    {
     "data": {
      "text/plain": [
       "6"
      ]
     },
     "execution_count": 50,
     "metadata": {},
     "output_type": "execute_result"
    }
   ],
   "source": [
    "lengthDictonary=int(input('Enter the length of Dictonary'))\n",
    "d1={}\n",
    "\n",
    "for i in range(lengthDictonary):\n",
    "    d1[i]=int(input('Enter a Number'))\n",
    "\n",
    "sum(d1.values())"
   ]
  },
  {
   "cell_type": "markdown",
   "metadata": {},
   "source": [
    "### 15) WAP to handle missing keys in dictionaries.\n",
    "#### Example : Given, dict1 = {'a': 5, 'c': 8, 'e': 2} \n",
    "#### if you look for key = 'd', the message given should be 'Key Not Found', otherwise print the value of 'd' in dict1."
   ]
  },
  {
   "cell_type": "code",
   "execution_count": 52,
   "metadata": {},
   "outputs": [
    {
     "name": "stdin",
     "output_type": "stream",
     "text": [
      "Enter Key to Search a\n"
     ]
    },
    {
     "name": "stdout",
     "output_type": "stream",
     "text": [
      "5\n"
     ]
    }
   ],
   "source": [
    "keyList=list(dict1.keys())\n",
    "\n",
    "keyByUser=input('Enter Key to Search')\n",
    "if keyByUser not in keyList:\n",
    "    print('Key not Fount')\n",
    "\n",
    "    print(dict1.get(keyByUser))"
   ]
  },
  {
   "cell_type": "code",
   "execution_count": null,
   "metadata": {},
   "outputs": [],
   "source": []
  }
 ],
 "metadata": {
  "kernelspec": {
   "display_name": "Python 3 (ipykernel)",
   "language": "python",
   "name": "python3"
  },
  "language_info": {
   "codemirror_mode": {
    "name": "ipython",
    "version": 3
   },
   "file_extension": ".py",
   "mimetype": "text/x-python",
   "name": "python",
   "nbconvert_exporter": "python",
   "pygments_lexer": "ipython3",
   "version": "3.12.7"
  }
 },
 "nbformat": 4,
 "nbformat_minor": 4
}
